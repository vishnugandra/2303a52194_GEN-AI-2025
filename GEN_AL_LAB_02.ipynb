{
  "nbformat": 4,
  "nbformat_minor": 0,
  "metadata": {
    "colab": {
      "provenance": []
    },
    "kernelspec": {
      "name": "python3",
      "display_name": "Python 3"
    },
    "language_info": {
      "name": "python"
    }
  },
  "cells": [
    {
      "cell_type": "markdown",
      "source": [
        "VISHNU\n",
        "2303A52194\n",
        "Batch-34"
      ],
      "metadata": {
        "id": "oxwJ8mZaxkht"
      }
    },
    {
      "cell_type": "markdown",
      "source": [
        "Case Study 1: Chocolate Manufacturing"
      ],
      "metadata": {
        "id": "pnRE3og0x27e"
      }
    },
    {
      "cell_type": "code",
      "source": [
        "from scipy.optimize import linprog\n",
        "\n",
        "profit = [-6, -5]\n",
        "constraints = [\n",
        "    [1, 1],\n",
        "    [3, 2]\n",
        "]\n",
        "resources = [5, 12]\n",
        "bounds = [(0, None), (0, None)]\n",
        "\n",
        "result = linprog(c=profit, A_ub=constraints, b_ub=resources, bounds=bounds, method=\"highs\")\n",
        "\n",
        "if result.success:\n",
        "    print(f\"Units of A: {result.x[0]:.2f}\")\n",
        "    print(f\"Units of B: {result.x[1]:.2f}\")\n",
        "    print(f\"Maximum Profit: Rs {-result.fun:.2f}\")\n",
        "else:\n",
        "    print(\"No solution found.\")\n"
      ],
      "metadata": {
        "colab": {
          "base_uri": "https://localhost:8080/"
        },
        "id": "tiploMIVx6Ln",
        "outputId": "b4da9036-814d-441c-e366-041876e0fc27"
      },
      "execution_count": 1,
      "outputs": [
        {
          "output_type": "stream",
          "name": "stdout",
          "text": [
            "Units of A: 2.00\n",
            "Units of B: 3.00\n",
            "Maximum Profit: Rs 27.00\n"
          ]
        }
      ]
    },
    {
      "cell_type": "markdown",
      "source": [
        "Case Study 2: Farm Optimization"
      ],
      "metadata": {
        "id": "keNi2sqByGEA"
      }
    },
    {
      "cell_type": "code",
      "source": [
        "from scipy.optimize import linprog\n",
        "\n",
        "profit = [-50, -120]\n",
        "constraints = [\n",
        "    [7000, 2000],\n",
        "    [10, 30],\n",
        "    [1, 1]\n",
        "]\n",
        "resources = [700000, 1200, 110]\n",
        "bounds = [(0, None), (0, None)]\n",
        "\n",
        "result = linprog(c=profit, A_ub=constraints, b_ub=resources, bounds=bounds, method=\"highs\")\n",
        "\n",
        "if result.success:\n",
        "    print(f\"Hectares of Wheat: {result.x[0]:.2f}\")\n",
        "    print(f\"Hectares of Barley: {result.x[1]:.2f}\")\n",
        "    print(f\"Maximum Profit: Rs {-result.fun:.2f}\")\n",
        "else:\n",
        "    print(\"No solution found.\")\n"
      ],
      "metadata": {
        "colab": {
          "base_uri": "https://localhost:8080/"
        },
        "id": "FhfFCH-ayG79",
        "outputId": "30fdf024-250b-4aee-ec1a-ebf96fbe8feb"
      },
      "execution_count": 2,
      "outputs": [
        {
          "output_type": "stream",
          "name": "stdout",
          "text": [
            "Hectares of Wheat: 97.89\n",
            "Hectares of Barley: 7.37\n",
            "Maximum Profit: Rs 5778.95\n"
          ]
        }
      ]
    }
  ]
}