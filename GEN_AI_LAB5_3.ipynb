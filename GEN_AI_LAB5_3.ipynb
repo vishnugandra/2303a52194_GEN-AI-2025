{
  "nbformat": 4,
  "nbformat_minor": 0,
  "metadata": {
    "colab": {
      "provenance": []
    },
    "kernelspec": {
      "name": "python3",
      "display_name": "Python 3"
    },
    "language_info": {
      "name": "python"
    }
  },
  "cells": [
    {
      "cell_type": "markdown",
      "source": [
        "ASSIGNMENT-5.3\n",
        "\n",
        "2303A52194\n",
        "\n",
        "BATCH:34"
      ],
      "metadata": {
        "id": "A1az03EOJyRs"
      }
    },
    {
      "cell_type": "code",
      "source": [
        "import numpy as np\n",
        "\n",
        "def sigmoid(x):\n",
        "    return 1 / (1 + np.exp(-x))\n",
        "\n",
        "def sigmoid_derivative(x):\n",
        "    return x * (1 - x)\n",
        "\n",
        "def mean_squared_error(y_true, y_pred):\n",
        "    return np.mean((y_true - y_pred) ** 2)\n",
        "\n",
        "class ANN:\n",
        "    def __init__(self, input_size, hidden_size, output_size, learning_rate=0.01):\n",
        "        self.W1 = np.random.rand(input_size, hidden_size)\n",
        "        self.b1 = np.random.rand(hidden_size)\n",
        "        self.W2 = np.random.rand(hidden_size, output_size)\n",
        "        self.b2 = np.random.rand(output_size)\n",
        "        self.learning_rate = learning_rate\n",
        "\n",
        "    def forward(self, X):\n",
        "        self.z1 = np.dot(X, self.W1) + self.b1\n",
        "        self.a1 = sigmoid(self.z1)\n",
        "        self.z2 = np.dot(self.a1, self.W2) + self.b2\n",
        "        return self.z2\n",
        "\n",
        "    def backward(self, X, y, output):\n",
        "        error = output - y\n",
        "        d_output = error\n",
        "\n",
        "        error_hidden = d_output.dot(self.W2.T)\n",
        "        d_hidden = error_hidden * sigmoid_derivative(self.a1)\n",
        "\n",
        "        self.W2 -= self.learning_rate * np.dot(self.a1.T, d_output)\n",
        "        self.b2 -= self.learning_rate * np.sum(d_output, axis=0)\n",
        "        self.W1 -= self.learning_rate * np.dot(X.T, d_hidden)\n",
        "        self.b1 -= self.learning_rate * np.sum(d_hidden, axis=0)\n",
        "\n",
        "    def train(self, X, y, epochs):\n",
        "        for epoch in range(epochs):\n",
        "            output = self.forward(X)\n",
        "            self.backward(X, y, output)\n",
        "\n",
        "    def predict(self, X):\n",
        "        return self.forward(X)\n",
        "\n",
        "X_train = np.array([[1, 2], [2, 3], [5, 6], [6, 7], [7, 8], [8, 9]])\n",
        "y_train = np.array([[0.4140], [0.4611], [0.5501], [0.5656], [0.5765], [0.5840]])\n",
        "\n",
        "X_test = np.array([[3, 4], [4, 5]])\n",
        "y_test = np.array([[0.4992], [0.5285]])\n",
        "\n",
        "model = ANN(input_size=2, hidden_size=3, output_size=1, learning_rate=0.01)\n",
        "\n",
        "model.train(X_train, y_train, epochs=10000)\n",
        "\n",
        "train_predictions = model.predict(X_train)\n",
        "test_predictions = model.predict(X_test)\n",
        "\n",
        "mse_train = mean_squared_error(y_train, train_predictions)\n",
        "mse_test = mean_squared_error(y_test, test_predictions)\n",
        "\n",
        "print(f\"Mean Squared Error (Training Data): {mse_train}\")\n",
        "print(f\"Mean Squared Error (Test Data): {mse_test}\")\n",
        "\n",
        "def predict_from_user_input():\n",
        "    x1 = float(input(\"Enter x1: \"))\n",
        "    x2 = float(input(\"Enter x2: \"))\n",
        "    input_data = np.array([[x1, x2]])\n",
        "    output = model.predict(input_data)\n",
        "    print(f\"Predicted output: {output[0][0]}\")\n"
      ],
      "metadata": {
        "id": "qvSkFeY0J8QU"
      },
      "execution_count": null,
      "outputs": []
    }
  ]
}