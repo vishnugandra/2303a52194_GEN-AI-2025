{
  "nbformat": 4,
  "nbformat_minor": 0,
  "metadata": {
    "colab": {
      "provenance": []
    },
    "kernelspec": {
      "name": "python3",
      "display_name": "Python 3"
    },
    "language_info": {
      "name": "python"
    }
  },
  "cells": [
    {
      "cell_type": "markdown",
      "source": [
        "VISHNU\n",
        "2303A52194\n",
        "Batch-34"
      ],
      "metadata": {
        "id": "HtpErzS2zV9C"
      }
    },
    {
      "cell_type": "code",
      "source": [
        "def f(x):\n",
        "    return 5 * x**4 + 3 * x**2 + 10\n",
        "\n",
        "def f_prime(x):\n",
        "    return 20 * x**3 + 6 * x\n",
        "\n",
        "def gradient_descent(learning_rate, iterations):\n",
        "    x = 0  # Starting point\n",
        "    for _ in range(iterations):\n",
        "        x = x - learning_rate * f_prime(x)\n",
        "    return x\n",
        "\n",
        "learning_rate = 0.01\n",
        "iterations = 1000\n",
        "min_x = gradient_descent(learning_rate, iterations)\n",
        "print(f\"Minimum value of x for f(x) is {min_x}\")"
      ],
      "metadata": {
        "colab": {
          "base_uri": "https://localhost:8080/"
        },
        "id": "tff467hO0a-8",
        "outputId": "77c9a6ad-6257-4ea5-d786-b88fec2f6118"
      },
      "execution_count": 2,
      "outputs": [
        {
          "output_type": "stream",
          "name": "stdout",
          "text": [
            "Minimum value of x for f(x) is 0.0\n"
          ]
        }
      ]
    },
    {
      "cell_type": "markdown",
      "source": [
        "QUESTION-2"
      ],
      "metadata": {
        "id": "1WboWU7I0GKc"
      }
    },
    {
      "cell_type": "code",
      "source": [
        "import math\n",
        "\n",
        "def g(x, y):\n",
        "    return 3 * x**2 + 5 * math.exp(-y) + 10\n",
        "\n",
        "def g_prime_x(x, y):\n",
        "    return 6 * x\n",
        "\n",
        "def g_prime_y(x, y):\n",
        "    return -5 * math.exp(-y)\n",
        "\n",
        "def gradient_descent_2d(learning_rate, iterations):\n",
        "    x, y = 0, 0  # Starting points\n",
        "    for _ in range(iterations):\n",
        "        x = x - learning_rate * g_prime_x(x, y)\n",
        "        y = y - learning_rate * g_prime_y(x, y)\n",
        "    return x, y\n",
        "\n",
        "learning_rate = 0.01\n",
        "iterations = 1000\n",
        "min_x, min_y = gradient_descent_2d(learning_rate, iterations)\n",
        "print(f\"Minimum values of x and y for g(x, y) are {min_x} and {min_y}\")\n",
        ""
      ],
      "metadata": {
        "colab": {
          "base_uri": "https://localhost:8080/"
        },
        "id": "QZNJTVla0dcQ",
        "outputId": "69f00f3c-5f32-488d-f8ff-f88d3ca41bc6"
      },
      "execution_count": 3,
      "outputs": [
        {
          "output_type": "stream",
          "name": "stdout",
          "text": [
            "Minimum values of x and y for g(x, y) are 0.0 and 3.9337602416246904\n"
          ]
        }
      ]
    },
    {
      "cell_type": "markdown",
      "source": [
        "Problem-3"
      ],
      "metadata": {
        "id": "fJ9IFKsr0rZp"
      }
    },
    {
      "cell_type": "code",
      "source": [
        "def z(x):\n",
        "    return 1 / (1 + math.exp(-x))\n",
        "\n",
        "def z_prime(x):\n",
        "    sigmoid = z(x)\n",
        "    return sigmoid * (1 - sigmoid)\n",
        "\n",
        "def gradient_descent_sigmoid(learning_rate, iterations):\n",
        "    x = 0  # Starting point\n",
        "    for _ in range(iterations):\n",
        "        x = x - learning_rate * z_prime(x)\n",
        "    return x\n",
        "\n",
        "learning_rate = 0.01\n",
        "iterations = 1000\n",
        "min_x_sigmoid = gradient_descent_sigmoid(learning_rate, iterations)\n",
        "print(f\"Minimum value of x for z(x) is {min_x_sigmoid}\")\n"
      ],
      "metadata": {
        "colab": {
          "base_uri": "https://localhost:8080/"
        },
        "id": "zqSorqhF0w_J",
        "outputId": "513eb092-ddcf-45a0-b136-8b2c7e758ce0"
      },
      "execution_count": 4,
      "outputs": [
        {
          "output_type": "stream",
          "name": "stdout",
          "text": [
            "Minimum value of x for z(x) is -1.8618354629020137\n"
          ]
        }
      ]
    },
    {
      "cell_type": "markdown",
      "source": [
        "problem-4"
      ],
      "metadata": {
        "id": "iojJpjjo01wi"
      }
    },
    {
      "cell_type": "code",
      "source": [
        "expected_output = [1, 2, 3, 4, 5]\n",
        "predicted_output = [2, 3, 4, 5, 6]\n",
        "\n",
        "\n",
        "M = 0\n",
        "C = 0\n",
        "\n",
        "learning_rate = 0.01\n",
        "\n",
        "iterations = 1000\n",
        "\n",
        "def predict(x, M, C):\n",
        "    return M * x + C\n",
        "\n",
        "def square_error(expected, predicted):\n",
        "    return (expected - predicted) ** 2\n",
        "\n",
        "def gradient_descent(expected_output, predicted_output, learning_rate, iterations):\n",
        "    global M, C\n",
        "    n = len(expected_output)\n",
        "\n",
        "    for _ in range(iterations):\n",
        "        dM = 0\n",
        "        dC = 0\n",
        "        for i in range(n):\n",
        "            dM += -2 * predicted_output[i] * (expected_output[i] - predict(predicted_output[i], M, C))\n",
        "            dC += -2 * (expected_output[i] - predict(predicted_output[i], M, C))\n",
        "        M -= (dM / n) * learning_rate\n",
        "        C -= (dC / n) * learning_rate\n",
        "\n",
        "    return M, C\n",
        "\n",
        "optimal_M, optimal_C = gradient_descent(expected_output, predicted_output, learning_rate, iterations)\n",
        "print(f\"Optimal values of M and C are: M = {optimal_M}, C = {optimal_C}\")"
      ],
      "metadata": {
        "colab": {
          "base_uri": "https://localhost:8080/"
        },
        "id": "DNXh73H505_T",
        "outputId": "b02ac9f0-9215-404d-ec39-e75ddc57af26"
      },
      "execution_count": 5,
      "outputs": [
        {
          "output_type": "stream",
          "name": "stdout",
          "text": [
            "Optimal values of M and C are: M = 0.9687112245577285, C = -0.8600285123045526\n"
          ]
        }
      ]
    }
  ]
}