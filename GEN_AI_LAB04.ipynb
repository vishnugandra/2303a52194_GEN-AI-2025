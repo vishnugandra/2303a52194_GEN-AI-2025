{
  "nbformat": 4,
  "nbformat_minor": 0,
  "metadata": {
    "colab": {
      "provenance": []
    },
    "kernelspec": {
      "name": "python3",
      "display_name": "Python 3"
    },
    "language_info": {
      "name": "python"
    }
  },
  "cells": [
    {
      "cell_type": "markdown",
      "source": [
        "ASSIGNMENT-4\n",
        "GEN-AI\n",
        "\n",
        "2303A52194\n",
        "\n",
        "BATCH:34"
      ],
      "metadata": {
        "id": "EAv7vislB7Js"
      }
    },
    {
      "cell_type": "code",
      "source": [
        "import numpy as np\n",
        "\n",
        "x_train = np.array([\n",
        "    [0.1, 0.2, 0.3],\n",
        "    [0.2, 0.3, 0.4],\n",
        "    [0.3, 0.4, 0.5],\n",
        "    [0.5, 0.6, 0.7],\n",
        "    [0.1, 0.3, 0.5],\n",
        "    [0.2, 0.4, 0.6],\n",
        "    [0.3, 0.5, 0.7],\n",
        "    [0.4, 0.6, 0.8],\n",
        "    [0.5, 0.7, 0.1]\n",
        "])\n",
        "y_train = np.array([0.14, 0.20, 0.26, 0.38, 0.22, 0.28, 0.34, 0.40, 0.22])\n",
        "\n",
        "x_test = np.array([\n",
        "    [0.6, 0.7, 0.8],\n",
        "    [0.7, 0.8, 0.9]\n",
        "])\n",
        "y_test = np.array([0.44, 0.50])\n",
        "\n",
        "w, b = np.random.randn(3), np.random.randn()\n",
        "\n",
        "for _ in range(1000):\n",
        "    y_pred = np.dot(x_train, w) + b\n",
        "    error = y_train - y_pred\n",
        "    w -= 0.01 * (-2 * np.dot(x_train.T, error) / len(x_train))\n",
        "    b -= 0.01 * (-2 * np.sum(error) / len(x_train))\n",
        "\n",
        "print(\"Predicted y for Training Data:\", np.dot(x_train, w) + b)\n",
        "print(\"Predicted y for Test Data:\", np.dot(x_test, w) + b)\n",
        "def predict():\n",
        "    while True:  # Loop until valid input is provided\n",
        "        try:\n",
        "            x_input = np.array([float(i) for i in input(\"Enter x1, x2, x3: \").split(',')])\n",
        "            if len(x_input) != 3:\n",
        "                raise ValueError(\"Please enter exactly 3 values for x1, x2, and x3.\")\n",
        "            break  # Exit loop if input is valid\n",
        "        except ValueError as e:\n",
        "            print(f\"Error: {e}\")\n",
        "\n",
        "    print(f\"Predicted output: {np.dot(x_input, w) + b:.5f}\")\n",
        "    print(f\"Predicted output: {np.dot(x_input, w) + b:.5f}\")\n",
        "\n",
        "predict()"
      ],
      "metadata": {
        "colab": {
          "base_uri": "https://localhost:8080/"
        },
        "id": "Re912MiICHnT",
        "outputId": "12e0d6d6-da96-4ab3-f1d8-45192fea0753"
      },
      "execution_count": 1,
      "outputs": [
        {
          "output_type": "stream",
          "name": "stdout",
          "text": [
            "Predicted y for Training Data: [ 0.23451236  0.22571276  0.21691317  0.19931398  0.42142792  0.41262832\n",
            "  0.40382873  0.39502913 -0.01676761]\n",
            "Predicted y for Test Data: [0.19051438 0.18171479]\n",
            "Enter x1, x2, x3: 0.4,0.5,0.6\n",
            "Predicted output: 0.20811\n",
            "Predicted output: 0.20811\n"
          ]
        }
      ]
    }
  ]
}