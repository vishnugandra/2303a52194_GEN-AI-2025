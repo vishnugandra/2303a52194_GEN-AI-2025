{
  "nbformat": 4,
  "nbformat_minor": 0,
  "metadata": {
    "colab": {
      "provenance": []
    },
    "kernelspec": {
      "name": "python3",
      "display_name": "Python 3"
    },
    "language_info": {
      "name": "python"
    }
  },
  "cells": [
    {
      "cell_type": "markdown",
      "source": [
        "ASSIGNMENT-5.1\n",
        "\n",
        "2303a52194\n",
        "\n",
        "BATCH:34"
      ],
      "metadata": {
        "id": "VGBMHeyBHtEc"
      }
    },
    {
      "cell_type": "code",
      "source": [
        "\n",
        "import numpy as np\n",
        "\n",
        "def sigmoid(x):\n",
        "    return 1 / (1 + np.exp(-x))\n",
        "\n",
        "def sigmoid_derivative(x):\n",
        "    return x * (1 - x)\n",
        "\n",
        "def train_ann(X, y, hidden_neurons=2, learning_rate=0.1, epochs=10000):\n",
        "    np.random.seed(42)\n",
        "    input_neurons = X.shape[1]\n",
        "    output_neurons = 1\n",
        "\n",
        "\n",
        "    W1 = np.random.rand(input_neurons, hidden_neurons)\n",
        "    b1 = np.random.rand(hidden_neurons)\n",
        "    W2 = np.random.rand(hidden_neurons, output_neurons)\n",
        "    b2 = np.random.rand(output_neurons)\n",
        "\n",
        "    for epoch in range(epochs):\n",
        "\n",
        "        hidden_input = np.dot(X, W1) + b1\n",
        "        hidden_output = sigmoid(hidden_input)\n",
        "        final_input = np.dot(hidden_output, W2) + b2\n",
        "        final_output = final_input\n",
        "\n",
        "        error = y - final_output\n",
        "\n",
        "        d_output = error\n",
        "        d_hidden = d_output.dot(W2.T) * sigmoid_derivative(hidden_output)\n",
        "\n",
        "\n",
        "        W2 += hidden_output.T.dot(d_output) * learning_rate\n",
        "        b2 += np.sum(d_output, axis=0) * learning_rate\n",
        "        W1 += X.T.dot(d_hidden) * learning_rate\n",
        "        b1 += np.sum(d_hidden, axis=0) * learning_rate\n",
        "\n",
        "    return W1, b1, W2, b2\n",
        "\n",
        "def predict(X, W1, b1, W2, b2):\n",
        "    hidden_input = np.dot(X, W1) + b1\n",
        "    hidden_output = sigmoid(hidden_input)\n",
        "    final_input = np.dot(hidden_output, W2) + b2\n",
        "    return final_input\n",
        "\n",
        "def mean_squared_error(y_true, y_pred):\n",
        "    return np.mean((y_true - y_pred) ** 2)\n",
        "\n",
        "X_train = np.array([[0.1, 0.2], [0.2, 0.3], [0.3, 0.4], [0.6, 0.7], [0.7, 0.8], [0.8, 0.9]])\n",
        "y_train = np.array([[0.3432], [0.3490], [0.3548], [0.3720], [0.3776], [0.3832]])\n",
        "\n",
        "W1, b1, W2, b2 = train_ann(X_train, y_train)\n",
        "\n",
        "X_test = np.array([[0.4, 0.5], [0.5, 0.6]])\n",
        "y_test = np.array([[0.3606], [0.3663]])\n",
        "y_pred_train = predict(X_train, W1, b1, W2, b2)\n",
        "y_pred_test = predict(X_test, W1, b1, W2, b2)\n",
        "\n",
        "mse_train = mean_squared_error(y_train, y_pred_train)\n",
        "mse_test = mean_squared_error(y_test, y_pred_test)\n",
        "print(f\"Training MSE: {mse_train}\")\n",
        "print(f\"Testing MSE: {mse_test}\")\n",
        "\n",
        "try:\n",
        "    x1, x2 = map(float, input(\"Enter x1 and x2: \").split())\n",
        "except (EOFError, OSError):\n",
        "    print(\"Input is not available. Using default values x1=0.4, x2=0.5.\")\n",
        "    x1, x2 = 0.4, 0.5\n",
        "\n",
        "user_input = np.array([[x1, x2]])\n",
        "user_output = predict(user_input, W1, b1, W2, b2)\n",
        "print(f\"Predicted output for x1={x1}, x2={x2}: {user_output[0][0]}\")\n"
      ],
      "metadata": {
        "colab": {
          "base_uri": "https://localhost:8080/"
        },
        "id": "sCkf1FKPH0Ss",
        "outputId": "641296ef-1bf4-4655-b70e-e8d20011880b"
      },
      "execution_count": 2,
      "outputs": [
        {
          "output_type": "stream",
          "name": "stdout",
          "text": [
            "Training MSE: 4.647810262924023e-07\n",
            "Testing MSE: 1.21760105376308e-06\n",
            "Enter x1 and x2: 0.4 0.5\n",
            "Predicted output for x1=0.4, x2=0.5: 0.36166689264874985\n"
          ]
        }
      ]
    }
  ]
}