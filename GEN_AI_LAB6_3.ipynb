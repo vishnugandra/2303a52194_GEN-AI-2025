{
  "nbformat": 4,
  "nbformat_minor": 0,
  "metadata": {
    "colab": {
      "provenance": []
    },
    "kernelspec": {
      "name": "python3",
      "display_name": "Python 3"
    },
    "language_info": {
      "name": "python"
    }
  },
  "cells": [
    {
      "cell_type": "code",
      "execution_count": 2,
      "metadata": {
        "colab": {
          "base_uri": "https://localhost:8080/"
        },
        "id": "vBg3V9VyUKkr",
        "outputId": "137a9314-c677-47c9-e90e-5f052c4bb0c3"
      },
      "outputs": [
        {
          "output_type": "stream",
          "name": "stdout",
          "text": [
            "Train MSE: 0.08051272316777676\n",
            "Test MSE: 0.08948956974059673\n",
            "Predicted Price: 0.4871539455205522\n"
          ]
        }
      ],
      "source": [
        "\n",
        "import numpy as np\n",
        "def swish(x):\n",
        "    return x / (1 + np.exp(-x))\n",
        "def swish_deriv(x):\n",
        "    return swish(x) + (1 - swish(x)) * (1 / (1 + np.exp(-x)))\n",
        "\n",
        "def init_weights(layers):\n",
        "    np.random.seed(1)\n",
        "    w = [np.random.randn(layers[i], layers[i+1]) * 0.1 for i in range(len(layers)-1)]\n",
        "    b = [np.random.randn(1, layers[i+1]) * 0.1 for i in range(len(layers)-1)]\n",
        "    return w, b\n",
        "\n",
        "def forward(X, w, b):\n",
        "    a = [X]\n",
        "    for i in range(len(w)-1):\n",
        "        a.append(swish(np.dot(a[-1], w[i]) + b[i]))\n",
        "    a.append(np.dot(a[-1], w[-1]) + b[-1])\n",
        "    return a\n",
        "\n",
        "def backprop(X, y, w, b, lr):\n",
        "    a = forward(X, w, b)\n",
        "    err = y - a[-1]\n",
        "    d = [err]\n",
        "    for i in range(len(w)-1, 0, -1):\n",
        "        d.append(np.dot(d[-1], w[i].T) * swish_deriv(a[i]))\n",
        "    d.reverse()\n",
        "\n",
        "    for i in range(len(w)):\n",
        "        w[i] += np.dot(a[i].T, d[i]) * lr\n",
        "        b[i] += np.sum(d[i], axis=0, keepdims=True) * lr\n",
        "\n",
        "def train(X, y, layers, lr=0.001, epochs=200):\n",
        "    w, b = init_weights(layers)\n",
        "    for _ in range(epochs):\n",
        "        backprop(X, y, w, b, lr)\n",
        "    return w, b\n",
        "\n",
        "def predict(X, w, b):\n",
        "    return forward(X, w, b)[-1]\n",
        "\n",
        "def mse(y, y_pred):\n",
        "    return np.mean((y - y_pred) ** 2)\n",
        "\n",
        "X_train = np.random.rand(500, 10)\n",
        "y_train = np.random.rand(500, 1)\n",
        "\n",
        "X_test = np.random.rand(100, 10)\n",
        "y_test = np.random.rand(100, 1)\n",
        "\n",
        "layers = [10, 18, 26, 20, 15, 1]\n",
        "w, b = train(X_train, y_train, layers, lr=0.001, epochs=200)\n",
        "\n",
        "train_mse = mse(y_train, predict(X_train, w, b))\n",
        "test_mse = mse(y_test, predict(X_test, w, b))\n",
        "\n",
        "print(\"Train MSE:\", train_mse)\n",
        "print(\"Test MSE:\", test_mse)\n",
        "\n",
        "new_data = np.random.rand(1, 10)\n",
        "predicted_price = predict(new_data, w, b)\n",
        "print(\"Predicted Price:\", predicted_price[0][0])\n",
        ""
      ]
    }
  ]
}